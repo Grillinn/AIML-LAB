{
 "cells": [
  {
   "cell_type": "code",
   "execution_count": 1,
   "id": "4e2353fe-e33b-4284-a37b-012640701583",
   "metadata": {},
   "outputs": [
    {
     "name": "stdout",
     "output_type": "stream",
     "text": [
      "Path from 1 to 11: ['1', '8', '9', '11']\n",
      "MAC Address: ef:b2:12:bf:47:ae\n",
      "Memory used: 0.02 MB\n",
      "Time taken: 0.0000 seconds\n"
     ]
    }
   ],
   "source": [
    "from collections import deque\n",
    "import time\n",
    "import psutil\n",
    "import uuid\n",
    "def dfs(graph, start, goal):\n",
    "    stack = [(start, [start])]  # Stack of tuples (node, path)\n",
    "    visited = set()\n",
    "\n",
    "    while stack:\n",
    "        current_node, path = stack.pop()\n",
    "        if current_node == goal:\n",
    "            return path\n",
    "        if current_node not in visited:\n",
    "            visited.add(current_node)\n",
    "            for neighbor in graph.neighbors(current_node):\n",
    "                if neighbor not in visited:\n",
    "                    new_path = list(path)\n",
    "                    new_path.append(neighbor)\n",
    "                    stack.append((neighbor, new_path))\n",
    "    return None\n",
    "\n",
    "import networkx as nx\n",
    "\n",
    "def create_networkx_graph(adjacency_dict):\n",
    "    G = nx.Graph()\n",
    "    for node, neighbors in adjacency_dict.items():\n",
    "        for neighbor in neighbors:\n",
    "            G.add_edge(node, neighbor)\n",
    "    return G\n",
    "\n",
    "mac = uuid.getnode()\n",
    "start_time = time.time()\n",
    "memory_before = psutil.Process().memory_info().rss / (1024 * 1024)\n",
    "\n",
    "adjacency_dict = {\n",
    "    '1': ['2', '7','8'],\n",
    "    '2': ['3', '6'],\n",
    "    '3': ['4', '5'],\n",
    "    '8': ['9', '10', '12'],\n",
    "    '9': ['11'],\n",
    "    # Add other connections if needed\n",
    "}\n",
    "\n",
    "# Create the NetworkX graph\n",
    "graph_nx = create_networkx_graph(adjacency_dict)\n",
    "\n",
    "# Calculate and print the path from 1 to 11 using DFS\n",
    "path_1_to_11 = dfs(graph_nx, '1', '11')\n",
    "print(\"Path from 1 to 11:\", path_1_to_11)\n",
    "\n",
    "memory_after = psutil.Process().memory_info().rss / (1024 * 1024)\n",
    "end_time = time.time()\n",
    "mac_address = ':'.join(['{:02x}'.format((mac >> elements) & 0xff) for elements in range(0, 8*6, 8)][::-1])\n",
    "print(f\"MAC Address: {mac_address}\")\n",
    "print(f\"Memory used: {memory_after - memory_before:.2f} MB\")\n",
    "print(f\"Time taken: {end_time - start_time:.4f} seconds\")"
   ]
  },
  {
   "cell_type": "code",
   "execution_count": 2,
   "id": "f14dd428-a18b-43ea-b38e-dbb3bcde7185",
   "metadata": {},
   "outputs": [
    {
     "name": "stdout",
     "output_type": "stream",
     "text": [
      "  |   |  \n",
      "---------\n",
      "  |   |  \n",
      "---------\n",
      "  |   |  \n"
     ]
    },
    {
     "name": "stdin",
     "output_type": "stream",
     "text": [
      "Enter your move (1-9):  5\n"
     ]
    },
    {
     "name": "stdout",
     "output_type": "stream",
     "text": [
      "  |   |  \n",
      "---------\n",
      "  | X | O\n",
      "---------\n",
      "  |   |  \n"
     ]
    },
    {
     "name": "stdin",
     "output_type": "stream",
     "text": [
      "Enter your move (1-9):  4\n"
     ]
    },
    {
     "name": "stdout",
     "output_type": "stream",
     "text": [
      "  |   |  \n",
      "---------\n",
      "X | X | O\n",
      "---------\n",
      "  |   | O\n"
     ]
    },
    {
     "name": "stdin",
     "output_type": "stream",
     "text": [
      "Enter your move (1-9):  6\n"
     ]
    },
    {
     "name": "stdout",
     "output_type": "stream",
     "text": [
      "Invalid move, try again.\n"
     ]
    },
    {
     "name": "stdin",
     "output_type": "stream",
     "text": [
      "Enter your move (1-9):  4\n"
     ]
    },
    {
     "name": "stdout",
     "output_type": "stream",
     "text": [
      "Invalid move, try again.\n"
     ]
    },
    {
     "name": "stdin",
     "output_type": "stream",
     "text": [
      "Enter your move (1-9):  3\n"
     ]
    },
    {
     "name": "stdout",
     "output_type": "stream",
     "text": [
      "  |   | X\n",
      "---------\n",
      "X | X | O\n",
      "---------\n",
      "O |   | O\n"
     ]
    },
    {
     "name": "stdin",
     "output_type": "stream",
     "text": [
      "Enter your move (1-9):  8\n"
     ]
    },
    {
     "name": "stdout",
     "output_type": "stream",
     "text": [
      "  | O | X\n",
      "---------\n",
      "X | X | O\n",
      "---------\n",
      "O | X | O\n"
     ]
    },
    {
     "name": "stdin",
     "output_type": "stream",
     "text": [
      "Enter your move (1-9):  1\n"
     ]
    },
    {
     "name": "stdout",
     "output_type": "stream",
     "text": [
      "It's a draw!\n",
      "MAC Address: ef:b2:12:bf:47:ae\n",
      "Memory used: -0.02 MB\n",
      "Time taken: 153.6290 seconds\n"
     ]
    }
   ],
   "source": [
    "import random\n",
    "import time\n",
    "import psutil\n",
    "import uuid\n",
    "import sys\n",
    "def print_board(board):\n",
    "    print(f\"{board[0]} | {board[1]} | {board[2]}\")\n",
    "    print(\"---------\")\n",
    "    print(f\"{board[3]} | {board[4]} | {board[5]}\")\n",
    "    print(\"---------\")\n",
    "    print(f\"{board[6]} | {board[7]} | {board[8]}\")\n",
    "\n",
    "def check_win(board):\n",
    "    win_conditions = [(0, 1, 2), (3, 4, 5), (6, 7, 8), (0, 3, 6), (1, 4, 7), (2, 5, 8), (0, 4, 8), (2, 4, 6)]\n",
    "    for condition in win_conditions:\n",
    "        if board[condition[0]] == board[condition[1]] == board[condition[2]] != \" \":\n",
    "            return True\n",
    "    return False\n",
    "\n",
    "def computer_move(board):\n",
    "    # Check if computer can win in the next move\n",
    "    for i in range(len(board)):\n",
    "        if board[i] == \" \":\n",
    "            board[i] = \"O\"\n",
    "            if check_win(board):\n",
    "                return\n",
    "            board[i] = \" \"\n",
    "    \n",
    "    # Check if user can win in the next move, block them\n",
    "    for i in range(len(board)):\n",
    "        if board[i] == \" \":\n",
    "            board[i] = \"X\"\n",
    "            if check_win(board):\n",
    "                board[i] = \"O\"\n",
    "                return\n",
    "            board[i] = \" \"\n",
    "    \n",
    "    # Otherwise, make a random move\n",
    "    available_moves = [i for i, x in enumerate(board) if x == \" \"]\n",
    "    if available_moves:\n",
    "        move = random.choice(available_moves)\n",
    "        board[move] = \"O\"\n",
    "    else:\n",
    "        print(\"It's a draw!\")\n",
    "        return 999\n",
    "\n",
    "\n",
    "def user_move(board):\n",
    "    move = int(input(\"Enter your move (1-9): \")) - 1\n",
    "    if board[move] == \" \":\n",
    "        board[move] = \"X\"\n",
    "    else:\n",
    "        print(\"Invalid move, try again.\")\n",
    "        user_move(board)\n",
    "    \n",
    "\n",
    "def play_game():\n",
    "    board = [\" \"] * 9\n",
    "    while True:\n",
    "        print_board(board)\n",
    "        user_move(board)\n",
    "        if check_win(board):\n",
    "            print_board(board)\n",
    "            print(\"User wins!\")\n",
    "            break\n",
    "        p=computer_move(board)\n",
    "        if check_win(board) and p!=999:\n",
    "            print_board(board)\n",
    "            print(\"Computer wins!\")\n",
    "            break\n",
    "        if p==999:\n",
    "            break\n",
    "mac = uuid.getnode()\n",
    "start_time = time.time()\n",
    "memory_before = psutil.Process().memory_info().rss / (1024 * 1024)\n",
    "play_game()\n",
    "memory_after = psutil.Process().memory_info().rss / (1024 * 1024)\n",
    "end_time = time.time()\n",
    "mac_address = ':'.join(['{:02x}'.format((mac >> elements) & 0xff) for elements in range(0, 8*6, 8)][::-1])\n",
    "print(f\"MAC Address: {mac_address}\")\n",
    "print(f\"Memory used: {memory_after - memory_before:.2f} MB\")\n",
    "print(f\"Time taken: {end_time - start_time:.4f} seconds\")"
   ]
  },
  {
   "cell_type": "code",
   "execution_count": 1,
   "id": "99399e08-899f-42f8-a0d1-499b363cf617",
   "metadata": {},
   "outputs": [
    {
     "name": "stdin",
     "output_type": "stream",
     "text": [
      "Enter the quantity of Jug 1:  4\n",
      "Enter the quantity of Jug 2:  6\n",
      "Enter the quantity required in Jug 1:  5\n"
     ]
    },
    {
     "name": "stdout",
     "output_type": "stream",
     "text": [
      "NO SOLUTION\n",
      "MAC Address: ef:b2:12:bf:47:ae\n",
      "Memory used: 0.01 MB\n",
      "Time taken: 12.8273 seconds\n"
     ]
    }
   ],
   "source": [
    "from collections import deque\n",
    "import matplotlib.pyplot as plt\n",
    "import numpy as np\n",
    "import time\n",
    "import psutil\n",
    "import uuid\n",
    "queue = deque()\n",
    "visited = set()\n",
    "queue.append((0, 0,[(0,0)]))\n",
    "\n",
    "def problem(jug1, jug2, q):\n",
    "    while queue:\n",
    "        j1, j2 ,path= queue.popleft()\n",
    "        if (j1, j2) in visited:\n",
    "            continue\n",
    "        if j1 == q:\n",
    "            print(\"Solution Found\")\n",
    "            return path\n",
    "        visited.add((j1, j2))\n",
    "        queue.append((jug1, j2,path+[(jug1, j2)]))\n",
    "        queue.append((j1, jug2,path+[(j1, jug2)]))\n",
    "        queue.append((0, j2,path+[(0,j2)]))\n",
    "        queue.append((j1, 0,path+[(j1,0)]))\n",
    "       \n",
    "        tf = min(j1, jug2 - j2)\n",
    "        queue.append((j1 - tf, j2 + tf,path+[(j1 - tf, j2 + tf)]))\n",
    "        tf = min(j2, jug1 - j1)\n",
    "        queue.append((j1 + tf, j2 - tf,path+[(j1 + tf, j2 - tf)]))\n",
    "    return \"NO SOLUTION\"\n",
    "\n",
    "\n",
    "mac = uuid.getnode()\n",
    "start_time = time.time()\n",
    "memory_before = psutil.Process().memory_info().rss / (1024 * 1024)\n",
    "jug1 = int(input(\"Enter the quantity of Jug 1: \"))\n",
    "jug2 = int(input(\"Enter the quantity of Jug 2: \"))   \n",
    "qty = int(input(\"Enter the quantity required in Jug 1: \"))   \n",
    "\n",
    "print(problem(jug1, jug2, qty))\n",
    "memory_after = psutil.Process().memory_info().rss / (1024 * 1024)\n",
    "end_time = time.time()\n",
    "mac_address = ':'.join(['{:02x}'.format((mac >> elements) & 0xff) for elements in range(0, 8*6, 8)][::-1])\n",
    "print(f\"MAC Address: {mac_address}\")\n",
    "print(f\"Memory used: {memory_after - memory_before:.2f} MB\")\n",
    "print(f\"Time taken: {end_time - start_time:.4f} seconds\")"
   ]
  },
  {
   "cell_type": "code",
   "execution_count": 2,
   "id": "6965639b-0b1a-445b-9962-132b0d091811",
   "metadata": {},
   "outputs": [
    {
     "name": "stdout",
     "output_type": "stream",
     "text": [
      "2 8 3 \n",
      "1 6 4 \n",
      "7   5 \n",
      "\n",
      "2 8 3 \n",
      "1   4 \n",
      "7 6 5 \n",
      "\n",
      "2   3 \n",
      "1 8 4 \n",
      "7 6 5 \n",
      "\n",
      "  2 3 \n",
      "1 8 4 \n",
      "7 6 5 \n",
      "\n",
      "1 2 3 \n",
      "  8 4 \n",
      "7 6 5 \n",
      "\n",
      "1 2 3 \n",
      "8   4 \n",
      "7 6 5 \n",
      "\n",
      "MAC Address: ef:b2:12:bf:47:ae\n",
      "Memory used: 0.01 MB\n",
      "Time taken: 0.0000 seconds\n"
     ]
    }
   ],
   "source": [
    "from collections import deque\n",
    "import time\n",
    "import psutil\n",
    "import uuid\n",
    "def bfs(start, goal):\n",
    "    def get_neighbors(state):\n",
    "        neighbors = []\n",
    "        index = state.index(0)\n",
    "        row, col = divmod(index, 3)\n",
    "        moves = [(-1, 0), (1, 0), (0, -1), (0, 1)]  # Up, Down, Left, Right\n",
    "        for move in moves:\n",
    "            new_row, new_col = row + move[0], col + move[1]\n",
    "            if 0 <= new_row < 3 and 0 <= new_col < 3:\n",
    "                new_index = new_row * 3 + new_col\n",
    "                new_state = state[:]\n",
    "                new_state[index], new_state[new_index] = new_state[new_index], new_state[index]\n",
    "                neighbors.append(new_state)\n",
    "        return neighbors\n",
    "\n",
    "    queue = deque([(start, [])])\n",
    "    visited = set()\n",
    "    visited.add(tuple(start))\n",
    "\n",
    "    while queue:\n",
    "        current_state, path = queue.popleft()\n",
    "        if current_state == goal:\n",
    "            return path + [current_state]\n",
    "        for neighbor in get_neighbors(current_state):\n",
    "            if tuple(neighbor) not in visited:\n",
    "                visited.add(tuple(neighbor))\n",
    "                queue.append((neighbor, path + [current_state]))\n",
    "    return None\n",
    "\n",
    "def print_board(state):\n",
    "    for i in range(3):\n",
    "        for j in range(3):\n",
    "            if state[i * 3 + j] == 0:\n",
    "                print(\" \", end=\" \")\n",
    "            else:\n",
    "                print(state[i * 3 + j], end=\" \")\n",
    "        print()  \n",
    "    print()  \n",
    "\n",
    "mac = uuid.getnode()\n",
    "start_time = time.time()\n",
    "memory_before = psutil.Process().memory_info().rss / (1024 * 1024)\n",
    "initial_state = [2, 8, 3, 1, 6, 4, 7, 0, 5]\n",
    "goal_state = [1, 2, 3, 8, 0, 4, 7, 6, 5]\n",
    "\n",
    "# Solve the puzzle\n",
    "solution_path = bfs(initial_state, goal_state)\n",
    "if solution_path:\n",
    "    for step in solution_path:\n",
    "        print_board(step)\n",
    "else:\n",
    "    print(\"No solution found.\")\n",
    "    \n",
    "memory_after = psutil.Process().memory_info().rss / (1024 * 1024)\n",
    "end_time = time.time()\n",
    "mac_address = ':'.join(['{:02x}'.format((mac >> elements) & 0xff) for elements in range(0, 8*6, 8)][::-1])\n",
    "print(f\"MAC Address: {mac_address}\")\n",
    "print(f\"Memory used: {memory_after - memory_before:.2f} MB\")\n",
    "print(f\"Time taken: {end_time - start_time:.4f} seconds\")"
   ]
  },
  {
   "cell_type": "code",
   "execution_count": 3,
   "id": "60b56910-dd06-45b6-93f4-b40b0c14cfa0",
   "metadata": {},
   "outputs": [
    {
     "name": "stdout",
     "output_type": "stream",
     "text": [
      "Path from B to M: ['B', 'X', 'K', 'M']\n",
      "MAC Address: ef:b2:12:bf:47:ae\n",
      "Memory used: 0.00 MB\n",
      "Time taken: 0.0000 seconds\n"
     ]
    }
   ],
   "source": [
    "from collections import deque\n",
    "import time\n",
    "import psutil\n",
    "import uuid\n",
    "def bfs(graph, start, goal):\n",
    "    visited = set()\n",
    "    queue = deque([(start, [start])])  # Queue of tuples (node, path)\n",
    "\n",
    "    while queue:\n",
    "        current_node, path = queue.popleft()\n",
    "        if current_node == goal:\n",
    "            return path\n",
    "        if current_node not in visited:\n",
    "            visited.add(current_node)\n",
    "            for neighbor in graph.neighbors(current_node):\n",
    "                if neighbor not in visited:\n",
    "                    new_path = list(path)\n",
    "                    new_path.append(neighbor)\n",
    "                    queue.append((neighbor, new_path))\n",
    "    return None\n",
    "import networkx as nx\n",
    "\n",
    "def create_networkx_graph(adjacency_dict):\n",
    "    G = nx.Graph()\n",
    "    for node, neighbors in adjacency_dict.items():\n",
    "        for neighbor in neighbors:\n",
    "            G.add_edge(node, neighbor)\n",
    "    return G\n",
    "\n",
    "mac = uuid.getnode()\n",
    "start_time = time.time()\n",
    "memory_before = psutil.Process().memory_info().rss / (1024 * 1024)\n",
    "adjacency_dict = {\n",
    "    'B': ['E', 'X'],\n",
    "    'E': ['P', 'G'],\n",
    "    'X': ['K', 'A'],\n",
    "    'P': ['D', 'T'],\n",
    "    'K': ['M'],\n",
    "}\n",
    "\n",
    "\n",
    "graph_nx = create_networkx_graph(adjacency_dict)\n",
    "path_B_to_M = bfs(graph_nx, 'B', 'M')\n",
    "print(\"Path from B to M:\", path_B_to_M)\n",
    "memory_after = psutil.Process().memory_info().rss / (1024 * 1024)\n",
    "end_time = time.time()\n",
    "mac_address = ':'.join(['{:02x}'.format((mac >> elements) & 0xff) for elements in range(0, 8*6, 8)][::-1])\n",
    "print(f\"MAC Address: {mac_address}\")\n",
    "print(f\"Memory used: {memory_after - memory_before:.2f} MB\")\n",
    "print(f\"Time taken: {end_time - start_time:.4f} seconds\")"
   ]
  },
  {
   "cell_type": "code",
   "execution_count": 4,
   "id": "7e265768-e013-4fb2-b6a6-a70b11188470",
   "metadata": {},
   "outputs": [
    {
     "name": "stdout",
     "output_type": "stream",
     "text": [
      "Path from 1 to 11: ['1', '8', '9', '11']\n",
      "MAC Address: ef:b2:12:bf:47:ae\n",
      "Memory used: 0.00 MB\n",
      "Time taken: 0.0000 seconds\n"
     ]
    }
   ],
   "source": [
    "from collections import deque\n",
    "import time\n",
    "import psutil\n",
    "import uuid\n",
    "def dfs(graph, start, goal):\n",
    "    stack = [(start, [start])]  # Stack of tuples (node, path)\n",
    "    visited = set()\n",
    "\n",
    "    while stack:\n",
    "        current_node, path = stack.pop()\n",
    "        if current_node == goal:\n",
    "            return path\n",
    "        if current_node not in visited:\n",
    "            visited.add(current_node)\n",
    "            for neighbor in graph.neighbors(current_node):\n",
    "                if neighbor not in visited:\n",
    "                    new_path = list(path)\n",
    "                    new_path.append(neighbor)\n",
    "                    stack.append((neighbor, new_path))\n",
    "    return None\n",
    "\n",
    "import networkx as nx\n",
    "\n",
    "def create_networkx_graph(adjacency_dict):\n",
    "    G = nx.Graph()\n",
    "    for node, neighbors in adjacency_dict.items():\n",
    "        for neighbor in neighbors:\n",
    "            G.add_edge(node, neighbor)\n",
    "    return G\n",
    "\n",
    "mac = uuid.getnode()\n",
    "start_time = time.time()\n",
    "memory_before = psutil.Process().memory_info().rss / (1024 * 1024)\n",
    "\n",
    "adjacency_dict = {\n",
    "    '1': ['2', '7','8'],\n",
    "    '2': ['3', '6'],\n",
    "    '3': ['4', '5'],\n",
    "    '8': ['9', '10', '12'],\n",
    "    '9': ['11'],\n",
    "    # Add other connections if needed\n",
    "}\n",
    "\n",
    "\n",
    "graph_nx = create_networkx_graph(adjacency_dict)\n",
    "\n",
    "# Calculate and print the path from 1 to 11 using DFS\n",
    "path_1_to_11 = dfs(graph_nx, '1', '11')\n",
    "print(\"Path from 1 to 11:\", path_1_to_11)\n",
    "\n",
    "memory_after = psutil.Process().memory_info().rss / (1024 * 1024)\n",
    "end_time = time.time()\n",
    "mac_address = ':'.join(['{:02x}'.format((mac >> elements) & 0xff) for elements in range(0, 8*6, 8)][::-1])\n",
    "print(f\"MAC Address: {mac_address}\")\n",
    "print(f\"Memory used: {memory_after - memory_before:.2f} MB\")\n",
    "print(f\"Time taken: {end_time - start_time:.4f} seconds\")"
   ]
  },
  {
   "cell_type": "code",
   "execution_count": null,
   "id": "1454dab0-5e98-410c-ab88-4e46fd902021",
   "metadata": {},
   "outputs": [],
   "source": []
  }
 ],
 "metadata": {
  "kernelspec": {
   "display_name": "Python 3 (ipykernel)",
   "language": "python",
   "name": "python3"
  },
  "language_info": {
   "codemirror_mode": {
    "name": "ipython",
    "version": 3
   },
   "file_extension": ".py",
   "mimetype": "text/x-python",
   "name": "python",
   "nbconvert_exporter": "python",
   "pygments_lexer": "ipython3",
   "version": "3.10.8"
  }
 },
 "nbformat": 4,
 "nbformat_minor": 5
}
